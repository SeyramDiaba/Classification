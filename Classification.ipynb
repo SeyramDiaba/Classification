{
 "cells": [
  {
   "cell_type": "markdown",
   "id": "5add3a52",
   "metadata": {},
   "source": [
    "# Import Libraries"
   ]
  },
  {
   "cell_type": "code",
   "execution_count": 1,
   "id": "3df053bf",
   "metadata": {},
   "outputs": [],
   "source": [
    "import pandas as pd\n",
    "from sklearn.preprocessing import StandardScaler, LabelEncoder\n",
    "from sklearn.model_selection import train_test_split\n",
    "from collections import Counter\n",
    "from sklearn.compose import ColumnTransformer\n",
    "from tensorflow.keras.models import Sequential\n",
    "from tensorflow.keras.layers import Dense, InputLayer\n",
    "from sklearn.metrics import classification_report\n",
    "from tensorflow.keras.utils import to_categorical\n",
    "import numpy as np\n"
   ]
  },
  {
   "cell_type": "markdown",
   "id": "80c5e1cb",
   "metadata": {},
   "source": [
    "## Load and Inspect Data"
   ]
  },
  {
   "cell_type": "code",
   "execution_count": 2,
   "id": "30e2151b",
   "metadata": {},
   "outputs": [],
   "source": [
    "data = pd.read_csv('heart_failure.csv')"
   ]
  },
  {
   "cell_type": "code",
   "execution_count": 3,
   "id": "d531134e",
   "metadata": {},
   "outputs": [
    {
     "data": {
      "text/html": [
       "<div>\n",
       "<style scoped>\n",
       "    .dataframe tbody tr th:only-of-type {\n",
       "        vertical-align: middle;\n",
       "    }\n",
       "\n",
       "    .dataframe tbody tr th {\n",
       "        vertical-align: top;\n",
       "    }\n",
       "\n",
       "    .dataframe thead th {\n",
       "        text-align: right;\n",
       "    }\n",
       "</style>\n",
       "<table border=\"1\" class=\"dataframe\">\n",
       "  <thead>\n",
       "    <tr style=\"text-align: right;\">\n",
       "      <th></th>\n",
       "      <th>Unnamed: 0</th>\n",
       "      <th>age</th>\n",
       "      <th>anaemia</th>\n",
       "      <th>creatinine_phosphokinase</th>\n",
       "      <th>diabetes</th>\n",
       "      <th>ejection_fraction</th>\n",
       "      <th>high_blood_pressure</th>\n",
       "      <th>platelets</th>\n",
       "      <th>serum_creatinine</th>\n",
       "      <th>serum_sodium</th>\n",
       "      <th>sex</th>\n",
       "      <th>smoking</th>\n",
       "      <th>time</th>\n",
       "      <th>DEATH_EVENT</th>\n",
       "      <th>death_event</th>\n",
       "    </tr>\n",
       "  </thead>\n",
       "  <tbody>\n",
       "    <tr>\n",
       "      <th>0</th>\n",
       "      <td>0</td>\n",
       "      <td>75.0</td>\n",
       "      <td>no</td>\n",
       "      <td>582</td>\n",
       "      <td>no</td>\n",
       "      <td>20</td>\n",
       "      <td>yes</td>\n",
       "      <td>265000.00</td>\n",
       "      <td>1.9</td>\n",
       "      <td>130</td>\n",
       "      <td>yes</td>\n",
       "      <td>no</td>\n",
       "      <td>4</td>\n",
       "      <td>1</td>\n",
       "      <td>yes</td>\n",
       "    </tr>\n",
       "    <tr>\n",
       "      <th>1</th>\n",
       "      <td>1</td>\n",
       "      <td>55.0</td>\n",
       "      <td>no</td>\n",
       "      <td>7861</td>\n",
       "      <td>no</td>\n",
       "      <td>38</td>\n",
       "      <td>no</td>\n",
       "      <td>263358.03</td>\n",
       "      <td>1.1</td>\n",
       "      <td>136</td>\n",
       "      <td>yes</td>\n",
       "      <td>no</td>\n",
       "      <td>6</td>\n",
       "      <td>1</td>\n",
       "      <td>yes</td>\n",
       "    </tr>\n",
       "    <tr>\n",
       "      <th>2</th>\n",
       "      <td>2</td>\n",
       "      <td>65.0</td>\n",
       "      <td>no</td>\n",
       "      <td>146</td>\n",
       "      <td>no</td>\n",
       "      <td>20</td>\n",
       "      <td>no</td>\n",
       "      <td>162000.00</td>\n",
       "      <td>1.3</td>\n",
       "      <td>129</td>\n",
       "      <td>yes</td>\n",
       "      <td>yes</td>\n",
       "      <td>7</td>\n",
       "      <td>1</td>\n",
       "      <td>yes</td>\n",
       "    </tr>\n",
       "    <tr>\n",
       "      <th>3</th>\n",
       "      <td>3</td>\n",
       "      <td>50.0</td>\n",
       "      <td>yes</td>\n",
       "      <td>111</td>\n",
       "      <td>no</td>\n",
       "      <td>20</td>\n",
       "      <td>no</td>\n",
       "      <td>210000.00</td>\n",
       "      <td>1.9</td>\n",
       "      <td>137</td>\n",
       "      <td>yes</td>\n",
       "      <td>no</td>\n",
       "      <td>7</td>\n",
       "      <td>1</td>\n",
       "      <td>yes</td>\n",
       "    </tr>\n",
       "    <tr>\n",
       "      <th>4</th>\n",
       "      <td>4</td>\n",
       "      <td>65.0</td>\n",
       "      <td>yes</td>\n",
       "      <td>160</td>\n",
       "      <td>yes</td>\n",
       "      <td>20</td>\n",
       "      <td>no</td>\n",
       "      <td>327000.00</td>\n",
       "      <td>2.7</td>\n",
       "      <td>116</td>\n",
       "      <td>no</td>\n",
       "      <td>no</td>\n",
       "      <td>8</td>\n",
       "      <td>1</td>\n",
       "      <td>yes</td>\n",
       "    </tr>\n",
       "  </tbody>\n",
       "</table>\n",
       "</div>"
      ],
      "text/plain": [
       "   Unnamed: 0   age anaemia  creatinine_phosphokinase diabetes  \\\n",
       "0           0  75.0      no                       582       no   \n",
       "1           1  55.0      no                      7861       no   \n",
       "2           2  65.0      no                       146       no   \n",
       "3           3  50.0     yes                       111       no   \n",
       "4           4  65.0     yes                       160      yes   \n",
       "\n",
       "   ejection_fraction high_blood_pressure  platelets  serum_creatinine  \\\n",
       "0                 20                 yes  265000.00               1.9   \n",
       "1                 38                  no  263358.03               1.1   \n",
       "2                 20                  no  162000.00               1.3   \n",
       "3                 20                  no  210000.00               1.9   \n",
       "4                 20                  no  327000.00               2.7   \n",
       "\n",
       "   serum_sodium  sex smoking  time  DEATH_EVENT death_event  \n",
       "0           130  yes      no     4            1         yes  \n",
       "1           136  yes      no     6            1         yes  \n",
       "2           129  yes     yes     7            1         yes  \n",
       "3           137  yes      no     7            1         yes  \n",
       "4           116   no      no     8            1         yes  "
      ]
     },
     "execution_count": 3,
     "metadata": {},
     "output_type": "execute_result"
    }
   ],
   "source": [
    "# View data\n",
    "data.head()"
   ]
  },
  {
   "cell_type": "code",
   "execution_count": 4,
   "id": "1aecb1aa",
   "metadata": {},
   "outputs": [
    {
     "name": "stdout",
     "output_type": "stream",
     "text": [
      "<class 'pandas.core.frame.DataFrame'>\n",
      "RangeIndex: 299 entries, 0 to 298\n",
      "Data columns (total 15 columns):\n",
      " #   Column                    Non-Null Count  Dtype  \n",
      "---  ------                    --------------  -----  \n",
      " 0   Unnamed: 0                299 non-null    int64  \n",
      " 1   age                       299 non-null    float64\n",
      " 2   anaemia                   299 non-null    object \n",
      " 3   creatinine_phosphokinase  299 non-null    int64  \n",
      " 4   diabetes                  299 non-null    object \n",
      " 5   ejection_fraction         299 non-null    int64  \n",
      " 6   high_blood_pressure       299 non-null    object \n",
      " 7   platelets                 299 non-null    float64\n",
      " 8   serum_creatinine          299 non-null    float64\n",
      " 9   serum_sodium              299 non-null    int64  \n",
      " 10  sex                       299 non-null    object \n",
      " 11  smoking                   299 non-null    object \n",
      " 12  time                      299 non-null    int64  \n",
      " 13  DEATH_EVENT               299 non-null    int64  \n",
      " 14  death_event               299 non-null    object \n",
      "dtypes: float64(3), int64(6), object(6)\n",
      "memory usage: 35.2+ KB\n"
     ]
    }
   ],
   "source": [
    "# inspect data info\n",
    "data.info()"
   ]
  },
  {
   "cell_type": "markdown",
   "id": "53fbd27b",
   "metadata": {},
   "source": [
    "#### Distribution of death_event column"
   ]
  },
  {
   "cell_type": "code",
   "execution_count": 5,
   "id": "ef442c4f",
   "metadata": {},
   "outputs": [
    {
     "data": {
      "text/plain": [
       "Counter({'yes': 96, 'no': 203})"
      ]
     },
     "execution_count": 5,
     "metadata": {},
     "output_type": "execute_result"
    }
   ],
   "source": [
    "Counter(data['death_event'])"
   ]
  },
  {
   "cell_type": "markdown",
   "id": "c126d75d",
   "metadata": {},
   "source": [
    "#### Extract label"
   ]
  },
  {
   "cell_type": "code",
   "execution_count": 6,
   "id": "4075548a",
   "metadata": {},
   "outputs": [
    {
     "data": {
      "text/plain": [
       "0    yes\n",
       "1    yes\n",
       "2    yes\n",
       "3    yes\n",
       "4    yes\n",
       "Name: death_event, dtype: object"
      ]
     },
     "execution_count": 6,
     "metadata": {},
     "output_type": "execute_result"
    }
   ],
   "source": [
    "y = data['death_event']\n",
    "y.head()"
   ]
  },
  {
   "cell_type": "markdown",
   "id": "ab1d67a9",
   "metadata": {},
   "source": [
    "#### Extract features"
   ]
  },
  {
   "cell_type": "code",
   "execution_count": 7,
   "id": "cb9f68d1",
   "metadata": {},
   "outputs": [
    {
     "data": {
      "text/html": [
       "<div>\n",
       "<style scoped>\n",
       "    .dataframe tbody tr th:only-of-type {\n",
       "        vertical-align: middle;\n",
       "    }\n",
       "\n",
       "    .dataframe tbody tr th {\n",
       "        vertical-align: top;\n",
       "    }\n",
       "\n",
       "    .dataframe thead th {\n",
       "        text-align: right;\n",
       "    }\n",
       "</style>\n",
       "<table border=\"1\" class=\"dataframe\">\n",
       "  <thead>\n",
       "    <tr style=\"text-align: right;\">\n",
       "      <th></th>\n",
       "      <th>age</th>\n",
       "      <th>anaemia</th>\n",
       "      <th>creatinine_phosphokinase</th>\n",
       "      <th>diabetes</th>\n",
       "      <th>ejection_fraction</th>\n",
       "      <th>high_blood_pressure</th>\n",
       "      <th>platelets</th>\n",
       "      <th>serum_creatinine</th>\n",
       "      <th>serum_sodium</th>\n",
       "      <th>sex</th>\n",
       "      <th>smoking</th>\n",
       "      <th>time</th>\n",
       "    </tr>\n",
       "  </thead>\n",
       "  <tbody>\n",
       "    <tr>\n",
       "      <th>0</th>\n",
       "      <td>75.0</td>\n",
       "      <td>no</td>\n",
       "      <td>582</td>\n",
       "      <td>no</td>\n",
       "      <td>20</td>\n",
       "      <td>yes</td>\n",
       "      <td>265000.00</td>\n",
       "      <td>1.9</td>\n",
       "      <td>130</td>\n",
       "      <td>yes</td>\n",
       "      <td>no</td>\n",
       "      <td>4</td>\n",
       "    </tr>\n",
       "    <tr>\n",
       "      <th>1</th>\n",
       "      <td>55.0</td>\n",
       "      <td>no</td>\n",
       "      <td>7861</td>\n",
       "      <td>no</td>\n",
       "      <td>38</td>\n",
       "      <td>no</td>\n",
       "      <td>263358.03</td>\n",
       "      <td>1.1</td>\n",
       "      <td>136</td>\n",
       "      <td>yes</td>\n",
       "      <td>no</td>\n",
       "      <td>6</td>\n",
       "    </tr>\n",
       "    <tr>\n",
       "      <th>2</th>\n",
       "      <td>65.0</td>\n",
       "      <td>no</td>\n",
       "      <td>146</td>\n",
       "      <td>no</td>\n",
       "      <td>20</td>\n",
       "      <td>no</td>\n",
       "      <td>162000.00</td>\n",
       "      <td>1.3</td>\n",
       "      <td>129</td>\n",
       "      <td>yes</td>\n",
       "      <td>yes</td>\n",
       "      <td>7</td>\n",
       "    </tr>\n",
       "    <tr>\n",
       "      <th>3</th>\n",
       "      <td>50.0</td>\n",
       "      <td>yes</td>\n",
       "      <td>111</td>\n",
       "      <td>no</td>\n",
       "      <td>20</td>\n",
       "      <td>no</td>\n",
       "      <td>210000.00</td>\n",
       "      <td>1.9</td>\n",
       "      <td>137</td>\n",
       "      <td>yes</td>\n",
       "      <td>no</td>\n",
       "      <td>7</td>\n",
       "    </tr>\n",
       "    <tr>\n",
       "      <th>4</th>\n",
       "      <td>65.0</td>\n",
       "      <td>yes</td>\n",
       "      <td>160</td>\n",
       "      <td>yes</td>\n",
       "      <td>20</td>\n",
       "      <td>no</td>\n",
       "      <td>327000.00</td>\n",
       "      <td>2.7</td>\n",
       "      <td>116</td>\n",
       "      <td>no</td>\n",
       "      <td>no</td>\n",
       "      <td>8</td>\n",
       "    </tr>\n",
       "  </tbody>\n",
       "</table>\n",
       "</div>"
      ],
      "text/plain": [
       "    age anaemia  creatinine_phosphokinase diabetes  ejection_fraction  \\\n",
       "0  75.0      no                       582       no                 20   \n",
       "1  55.0      no                      7861       no                 38   \n",
       "2  65.0      no                       146       no                 20   \n",
       "3  50.0     yes                       111       no                 20   \n",
       "4  65.0     yes                       160      yes                 20   \n",
       "\n",
       "  high_blood_pressure  platelets  serum_creatinine  serum_sodium  sex smoking  \\\n",
       "0                 yes  265000.00               1.9           130  yes      no   \n",
       "1                  no  263358.03               1.1           136  yes      no   \n",
       "2                  no  162000.00               1.3           129  yes     yes   \n",
       "3                  no  210000.00               1.9           137  yes      no   \n",
       "4                  no  327000.00               2.7           116   no      no   \n",
       "\n",
       "   time  \n",
       "0     4  \n",
       "1     6  \n",
       "2     7  \n",
       "3     7  \n",
       "4     8  "
      ]
     },
     "execution_count": 7,
     "metadata": {},
     "output_type": "execute_result"
    }
   ],
   "source": [
    "x= data[['age','anaemia','creatinine_phosphokinase','diabetes','ejection_fraction','high_blood_pressure','platelets','serum_creatinine','serum_sodium','sex','smoking','time']]\n",
    "x.head()"
   ]
  },
  {
   "cell_type": "code",
   "execution_count": 8,
   "id": "5049ce69",
   "metadata": {},
   "outputs": [
    {
     "data": {
      "text/html": [
       "<div>\n",
       "<style scoped>\n",
       "    .dataframe tbody tr th:only-of-type {\n",
       "        vertical-align: middle;\n",
       "    }\n",
       "\n",
       "    .dataframe tbody tr th {\n",
       "        vertical-align: top;\n",
       "    }\n",
       "\n",
       "    .dataframe thead th {\n",
       "        text-align: right;\n",
       "    }\n",
       "</style>\n",
       "<table border=\"1\" class=\"dataframe\">\n",
       "  <thead>\n",
       "    <tr style=\"text-align: right;\">\n",
       "      <th></th>\n",
       "      <th>age</th>\n",
       "      <th>creatinine_phosphokinase</th>\n",
       "      <th>ejection_fraction</th>\n",
       "      <th>platelets</th>\n",
       "      <th>serum_creatinine</th>\n",
       "      <th>serum_sodium</th>\n",
       "      <th>time</th>\n",
       "      <th>anaemia_no</th>\n",
       "      <th>anaemia_yes</th>\n",
       "      <th>diabetes_no</th>\n",
       "      <th>diabetes_yes</th>\n",
       "      <th>high_blood_pressure_no</th>\n",
       "      <th>high_blood_pressure_yes</th>\n",
       "      <th>sex_no</th>\n",
       "      <th>sex_yes</th>\n",
       "      <th>smoking_no</th>\n",
       "      <th>smoking_yes</th>\n",
       "    </tr>\n",
       "  </thead>\n",
       "  <tbody>\n",
       "    <tr>\n",
       "      <th>0</th>\n",
       "      <td>75.0</td>\n",
       "      <td>582</td>\n",
       "      <td>20</td>\n",
       "      <td>265000.00</td>\n",
       "      <td>1.9</td>\n",
       "      <td>130</td>\n",
       "      <td>4</td>\n",
       "      <td>1</td>\n",
       "      <td>0</td>\n",
       "      <td>1</td>\n",
       "      <td>0</td>\n",
       "      <td>0</td>\n",
       "      <td>1</td>\n",
       "      <td>0</td>\n",
       "      <td>1</td>\n",
       "      <td>1</td>\n",
       "      <td>0</td>\n",
       "    </tr>\n",
       "    <tr>\n",
       "      <th>1</th>\n",
       "      <td>55.0</td>\n",
       "      <td>7861</td>\n",
       "      <td>38</td>\n",
       "      <td>263358.03</td>\n",
       "      <td>1.1</td>\n",
       "      <td>136</td>\n",
       "      <td>6</td>\n",
       "      <td>1</td>\n",
       "      <td>0</td>\n",
       "      <td>1</td>\n",
       "      <td>0</td>\n",
       "      <td>1</td>\n",
       "      <td>0</td>\n",
       "      <td>0</td>\n",
       "      <td>1</td>\n",
       "      <td>1</td>\n",
       "      <td>0</td>\n",
       "    </tr>\n",
       "    <tr>\n",
       "      <th>2</th>\n",
       "      <td>65.0</td>\n",
       "      <td>146</td>\n",
       "      <td>20</td>\n",
       "      <td>162000.00</td>\n",
       "      <td>1.3</td>\n",
       "      <td>129</td>\n",
       "      <td>7</td>\n",
       "      <td>1</td>\n",
       "      <td>0</td>\n",
       "      <td>1</td>\n",
       "      <td>0</td>\n",
       "      <td>1</td>\n",
       "      <td>0</td>\n",
       "      <td>0</td>\n",
       "      <td>1</td>\n",
       "      <td>0</td>\n",
       "      <td>1</td>\n",
       "    </tr>\n",
       "    <tr>\n",
       "      <th>3</th>\n",
       "      <td>50.0</td>\n",
       "      <td>111</td>\n",
       "      <td>20</td>\n",
       "      <td>210000.00</td>\n",
       "      <td>1.9</td>\n",
       "      <td>137</td>\n",
       "      <td>7</td>\n",
       "      <td>0</td>\n",
       "      <td>1</td>\n",
       "      <td>1</td>\n",
       "      <td>0</td>\n",
       "      <td>1</td>\n",
       "      <td>0</td>\n",
       "      <td>0</td>\n",
       "      <td>1</td>\n",
       "      <td>1</td>\n",
       "      <td>0</td>\n",
       "    </tr>\n",
       "    <tr>\n",
       "      <th>4</th>\n",
       "      <td>65.0</td>\n",
       "      <td>160</td>\n",
       "      <td>20</td>\n",
       "      <td>327000.00</td>\n",
       "      <td>2.7</td>\n",
       "      <td>116</td>\n",
       "      <td>8</td>\n",
       "      <td>0</td>\n",
       "      <td>1</td>\n",
       "      <td>0</td>\n",
       "      <td>1</td>\n",
       "      <td>1</td>\n",
       "      <td>0</td>\n",
       "      <td>1</td>\n",
       "      <td>0</td>\n",
       "      <td>1</td>\n",
       "      <td>0</td>\n",
       "    </tr>\n",
       "  </tbody>\n",
       "</table>\n",
       "</div>"
      ],
      "text/plain": [
       "    age  creatinine_phosphokinase  ejection_fraction  platelets  \\\n",
       "0  75.0                       582                 20  265000.00   \n",
       "1  55.0                      7861                 38  263358.03   \n",
       "2  65.0                       146                 20  162000.00   \n",
       "3  50.0                       111                 20  210000.00   \n",
       "4  65.0                       160                 20  327000.00   \n",
       "\n",
       "   serum_creatinine  serum_sodium  time  anaemia_no  anaemia_yes  diabetes_no  \\\n",
       "0               1.9           130     4           1            0            1   \n",
       "1               1.1           136     6           1            0            1   \n",
       "2               1.3           129     7           1            0            1   \n",
       "3               1.9           137     7           0            1            1   \n",
       "4               2.7           116     8           0            1            0   \n",
       "\n",
       "   diabetes_yes  high_blood_pressure_no  high_blood_pressure_yes  sex_no  \\\n",
       "0             0                       0                        1       0   \n",
       "1             0                       1                        0       0   \n",
       "2             0                       1                        0       0   \n",
       "3             0                       1                        0       0   \n",
       "4             1                       1                        0       1   \n",
       "\n",
       "   sex_yes  smoking_no  smoking_yes  \n",
       "0        1           1            0  \n",
       "1        1           1            0  \n",
       "2        1           0            1  \n",
       "3        1           1            0  \n",
       "4        0           1            0  "
      ]
     },
     "execution_count": 8,
     "metadata": {},
     "output_type": "execute_result"
    }
   ],
   "source": [
    "# converting categorical features in 'x' to one-hot encoded vectors\n",
    "x = pd.get_dummies(x)\n",
    "x.head()"
   ]
  },
  {
   "cell_type": "markdown",
   "id": "92fa96d9",
   "metadata": {},
   "source": [
    "## Splitting data into training and test sets"
   ]
  },
  {
   "cell_type": "code",
   "execution_count": 9,
   "id": "44ccd56d",
   "metadata": {},
   "outputs": [],
   "source": [
    "X_train,X_test,Y_train,Y_test= train_test_split(x,y, test_size=0.2, random_state=42)"
   ]
  },
  {
   "cell_type": "markdown",
   "id": "fc768bb6",
   "metadata": {},
   "source": [
    "#### Standardise the numerical columns"
   ]
  },
  {
   "cell_type": "code",
   "execution_count": 10,
   "id": "3e05746a",
   "metadata": {},
   "outputs": [
    {
     "data": {
      "text/plain": [
       "Index(['age', 'creatinine_phosphokinase', 'ejection_fraction', 'platelets',\n",
       "       'serum_creatinine', 'serum_sodium', 'time'],\n",
       "      dtype='object')"
      ]
     },
     "execution_count": 10,
     "metadata": {},
     "output_type": "execute_result"
    }
   ],
   "source": [
    "numerical_x = x.select_dtypes(include=['int64','float64'])\n",
    "numerical_columns = numerical_x.columns\n",
    "numerical_columns"
   ]
  },
  {
   "cell_type": "code",
   "execution_count": 11,
   "id": "e654cfe1",
   "metadata": {},
   "outputs": [],
   "source": [
    "ct = ColumnTransformer([('numeric', StandardScaler(), numerical_columns)], remainder = 'passthrough')\n",
    "\n",
    "features_train = ct.fit_transform(X_train)\n",
    "features_test = ct.transform(X_test)"
   ]
  },
  {
   "cell_type": "markdown",
   "id": "6fdecbe9",
   "metadata": {},
   "source": [
    "## Prepare labels for classification"
   ]
  },
  {
   "cell_type": "code",
   "execution_count": 12,
   "id": "5adc29b2",
   "metadata": {},
   "outputs": [],
   "source": [
    "le= LabelEncoder()"
   ]
  },
  {
   "cell_type": "code",
   "execution_count": 13,
   "id": "fdb326a8",
   "metadata": {},
   "outputs": [],
   "source": [
    "Y_train=le.fit_transform(Y_train.astype(str))"
   ]
  },
  {
   "cell_type": "code",
   "execution_count": 14,
   "id": "7524da66",
   "metadata": {},
   "outputs": [],
   "source": [
    "Y_test=le.transform(Y_test.astype(str))"
   ]
  },
  {
   "cell_type": "code",
   "execution_count": 15,
   "id": "0ceebc31",
   "metadata": {},
   "outputs": [],
   "source": [
    "# transform encoded training labels Y_train into a binary vector\n",
    "Y_train= to_categorical(Y_train, dtype='int64')\n",
    "# transform encoded training labels Y_test into a binary vector\n",
    "Y_test = to_categorical(Y_test, dtype= 'int64')"
   ]
  },
  {
   "cell_type": "markdown",
   "id": "42d8d5a7",
   "metadata": {},
   "source": [
    "# Design the model"
   ]
  },
  {
   "cell_type": "code",
   "execution_count": 16,
   "id": "55ba4ed9",
   "metadata": {},
   "outputs": [],
   "source": [
    "model = Sequential()"
   ]
  },
  {
   "cell_type": "code",
   "execution_count": 17,
   "id": "e6dc45f9",
   "metadata": {},
   "outputs": [],
   "source": [
    "# input layer\n",
    "model.add(InputLayer(input_shape=(X_train.shape[1],)))\n",
    "# hidden layer\n",
    "model.add(Dense(12, activation = 'relu'))\n",
    "# output layer\n",
    "model.add(Dense(2, activation='softmax'))"
   ]
  },
  {
   "cell_type": "code",
   "execution_count": 18,
   "id": "0ab6bcdd",
   "metadata": {},
   "outputs": [],
   "source": [
    "model.compile(loss='categorical_crossentropy', optimizer='adam', metrics=['accuracy'])"
   ]
  },
  {
   "cell_type": "markdown",
   "id": "c39efd19",
   "metadata": {},
   "source": [
    "## Train and Evaluate Model"
   ]
  },
  {
   "cell_type": "code",
   "execution_count": 19,
   "id": "e3722b53",
   "metadata": {},
   "outputs": [
    {
     "name": "stdout",
     "output_type": "stream",
     "text": [
      "Epoch 1/100\n",
      "15/15 [==============================] - 0s 2ms/step - loss: 1460.6256 - accuracy: 0.5523\n",
      "Epoch 2/100\n",
      "15/15 [==============================] - 0s 1ms/step - loss: 465.5748 - accuracy: 0.5607\n",
      "Epoch 3/100\n",
      "15/15 [==============================] - 0s 1ms/step - loss: 85.5813 - accuracy: 0.6192\n",
      "Epoch 4/100\n",
      "15/15 [==============================] - 0s 1ms/step - loss: 28.0667 - accuracy: 0.6402\n",
      "Epoch 5/100\n",
      "15/15 [==============================] - 0s 1ms/step - loss: 62.4984 - accuracy: 0.6276\n",
      "Epoch 6/100\n",
      "15/15 [==============================] - 0s 925us/step - loss: 36.4406 - accuracy: 0.6192\n",
      "Epoch 7/100\n",
      "15/15 [==============================] - 0s 1ms/step - loss: 37.4132 - accuracy: 0.5983\n",
      "Epoch 8/100\n",
      "15/15 [==============================] - 0s 1ms/step - loss: 49.4621 - accuracy: 0.6151\n",
      "Epoch 9/100\n",
      "15/15 [==============================] - ETA: 0s - loss: 8.0731 - accuracy: 0.62 - 0s 1ms/step - loss: 17.1748 - accuracy: 0.6360\n",
      "Epoch 10/100\n",
      "15/15 [==============================] - 0s 1ms/step - loss: 57.6249 - accuracy: 0.6234\n",
      "Epoch 11/100\n",
      "15/15 [==============================] - ETA: 0s - loss: 26.9988 - accuracy: 0.500 - 0s 1ms/step - loss: 67.8786 - accuracy: 0.5690\n",
      "Epoch 12/100\n",
      "15/15 [==============================] - 0s 1ms/step - loss: 38.2550 - accuracy: 0.5900\n",
      "Epoch 13/100\n",
      "15/15 [==============================] - 0s 1ms/step - loss: 24.7329 - accuracy: 0.6611\n",
      "Epoch 14/100\n",
      "15/15 [==============================] - 0s 1ms/step - loss: 17.0385 - accuracy: 0.6695\n",
      "Epoch 15/100\n",
      "15/15 [==============================] - ETA: 0s - loss: 42.4700 - accuracy: 0.625 - 0s 1ms/step - loss: 20.2787 - accuracy: 0.6820\n",
      "Epoch 16/100\n",
      "15/15 [==============================] - 0s 1ms/step - loss: 59.8325 - accuracy: 0.5941\n",
      "Epoch 17/100\n",
      "15/15 [==============================] - 0s 1ms/step - loss: 29.5482 - accuracy: 0.6151\n",
      "Epoch 18/100\n",
      "15/15 [==============================] - 0s 1ms/step - loss: 24.2178 - accuracy: 0.6736\n",
      "Epoch 19/100\n",
      "15/15 [==============================] - 0s 2ms/step - loss: 16.8917 - accuracy: 0.6234\n",
      "Epoch 20/100\n",
      "15/15 [==============================] - 0s 1ms/step - loss: 21.3674 - accuracy: 0.6444\n",
      "Epoch 21/100\n",
      "15/15 [==============================] - 0s 1ms/step - loss: 45.1576 - accuracy: 0.6402\n",
      "Epoch 22/100\n",
      "15/15 [==============================] - 0s 1ms/step - loss: 65.2019 - accuracy: 0.6151\n",
      "Epoch 23/100\n",
      "15/15 [==============================] - 0s 1ms/step - loss: 69.8004 - accuracy: 0.6276\n",
      "Epoch 24/100\n",
      "15/15 [==============================] - 0s 3ms/step - loss: 25.8889 - accuracy: 0.6778\n",
      "Epoch 25/100\n",
      "15/15 [==============================] - 0s 1ms/step - loss: 57.3065 - accuracy: 0.6067\n",
      "Epoch 26/100\n",
      "15/15 [==============================] - 0s 1ms/step - loss: 121.2492 - accuracy: 0.5900\n",
      "Epoch 27/100\n",
      "15/15 [==============================] - 0s 1ms/step - loss: 99.0087 - accuracy: 0.6276\n",
      "Epoch 28/100\n",
      "15/15 [==============================] - 0s 1ms/step - loss: 62.7058 - accuracy: 0.6025\n",
      "Epoch 29/100\n",
      "15/15 [==============================] - 0s 1ms/step - loss: 65.1204 - accuracy: 0.5941\n",
      "Epoch 30/100\n",
      "15/15 [==============================] - 0s 1ms/step - loss: 72.1451 - accuracy: 0.6192\n",
      "Epoch 31/100\n",
      "15/15 [==============================] - 0s 1ms/step - loss: 14.7392 - accuracy: 0.6653\n",
      "Epoch 32/100\n",
      "15/15 [==============================] - 0s 926us/step - loss: 21.2936 - accuracy: 0.6318\n",
      "Epoch 33/100\n",
      "15/15 [==============================] - 0s 1ms/step - loss: 26.9586 - accuracy: 0.6695\n",
      "Epoch 34/100\n",
      "15/15 [==============================] - 0s 1ms/step - loss: 43.1365 - accuracy: 0.6234\n",
      "Epoch 35/100\n",
      "15/15 [==============================] - 0s 1ms/step - loss: 39.5476 - accuracy: 0.6569\n",
      "Epoch 36/100\n",
      "15/15 [==============================] - 0s 1ms/step - loss: 43.3031 - accuracy: 0.6025\n",
      "Epoch 37/100\n",
      "15/15 [==============================] - 0s 1ms/step - loss: 34.0064 - accuracy: 0.6234\n",
      "Epoch 38/100\n",
      "15/15 [==============================] - 0s 1ms/step - loss: 36.4788 - accuracy: 0.6402\n",
      "Epoch 39/100\n",
      "15/15 [==============================] - 0s 1ms/step - loss: 75.3046 - accuracy: 0.6151\n",
      "Epoch 40/100\n",
      "15/15 [==============================] - 0s 1ms/step - loss: 54.7391 - accuracy: 0.6360\n",
      "Epoch 41/100\n",
      "15/15 [==============================] - 0s 1ms/step - loss: 94.4572 - accuracy: 0.5774\n",
      "Epoch 42/100\n",
      "15/15 [==============================] - 0s 1ms/step - loss: 116.9382 - accuracy: 0.6025\n",
      "Epoch 43/100\n",
      "15/15 [==============================] - 0s 997us/step - loss: 83.2569 - accuracy: 0.5649\n",
      "Epoch 44/100\n",
      "15/15 [==============================] - 0s 999us/step - loss: 48.4076 - accuracy: 0.6276\n",
      "Epoch 45/100\n",
      "15/15 [==============================] - 0s 926us/step - loss: 22.9037 - accuracy: 0.6444\n",
      "Epoch 46/100\n",
      "15/15 [==============================] - 0s 926us/step - loss: 19.4927 - accuracy: 0.6820\n",
      "Epoch 47/100\n",
      "15/15 [==============================] - 0s 1000us/step - loss: 31.7558 - accuracy: 0.6778\n",
      "Epoch 48/100\n",
      "15/15 [==============================] - 0s 997us/step - loss: 109.1061 - accuracy: 0.6318\n",
      "Epoch 49/100\n",
      "15/15 [==============================] - 0s 997us/step - loss: 68.6003 - accuracy: 0.6067\n",
      "Epoch 50/100\n",
      "15/15 [==============================] - 0s 925us/step - loss: 20.3676 - accuracy: 0.6904\n",
      "Epoch 51/100\n",
      "15/15 [==============================] - ETA: 0s - loss: 13.5593 - accuracy: 0.625 - 0s 967us/step - loss: 33.1644 - accuracy: 0.6569\n",
      "Epoch 52/100\n",
      "15/15 [==============================] - 0s 999us/step - loss: 61.8533 - accuracy: 0.6151\n",
      "Epoch 53/100\n",
      "15/15 [==============================] - 0s 997us/step - loss: 17.5598 - accuracy: 0.7238\n",
      "Epoch 54/100\n",
      "15/15 [==============================] - 0s 1ms/step - loss: 12.6382 - accuracy: 0.7531\n",
      "Epoch 55/100\n",
      "15/15 [==============================] - 0s 999us/step - loss: 28.8963 - accuracy: 0.6611\n",
      "Epoch 56/100\n",
      "15/15 [==============================] - 0s 997us/step - loss: 38.1449 - accuracy: 0.6444\n",
      "Epoch 57/100\n",
      "15/15 [==============================] - 0s 997us/step - loss: 19.4863 - accuracy: 0.6862\n",
      "Epoch 58/100\n",
      "15/15 [==============================] - 0s 997us/step - loss: 29.0554 - accuracy: 0.6402\n",
      "Epoch 59/100\n",
      "15/15 [==============================] - 0s 997us/step - loss: 22.0310 - accuracy: 0.6862\n",
      "Epoch 60/100\n",
      "15/15 [==============================] - 0s 926us/step - loss: 19.5127 - accuracy: 0.6695\n",
      "Epoch 61/100\n",
      "15/15 [==============================] - 0s 997us/step - loss: 46.2869 - accuracy: 0.6485\n",
      "Epoch 62/100\n",
      "15/15 [==============================] - 0s 1ms/step - loss: 15.5499 - accuracy: 0.7448\n",
      "Epoch 63/100\n",
      "15/15 [==============================] - 0s 926us/step - loss: 14.7701 - accuracy: 0.7238\n",
      "Epoch 64/100\n",
      "15/15 [==============================] - 0s 926us/step - loss: 24.2419 - accuracy: 0.7197\n",
      "Epoch 65/100\n",
      "15/15 [==============================] - 0s 926us/step - loss: 68.4500 - accuracy: 0.6736\n",
      "Epoch 66/100\n",
      "15/15 [==============================] - 0s 926us/step - loss: 58.0571 - accuracy: 0.6192\n",
      "Epoch 67/100\n",
      "15/15 [==============================] - 0s 997us/step - loss: 100.7102 - accuracy: 0.5941\n",
      "Epoch 68/100\n",
      "15/15 [==============================] - 0s 997us/step - loss: 40.0662 - accuracy: 0.6695\n",
      "Epoch 69/100\n",
      "15/15 [==============================] - 0s 999us/step - loss: 22.4799 - accuracy: 0.7029\n",
      "Epoch 70/100\n",
      "15/15 [==============================] - 0s 997us/step - loss: 29.5682 - accuracy: 0.7280\n",
      "Epoch 71/100\n",
      "15/15 [==============================] - 0s 926us/step - loss: 53.9438 - accuracy: 0.6151\n",
      "Epoch 72/100\n",
      "15/15 [==============================] - 0s 926us/step - loss: 124.6079 - accuracy: 0.6611\n",
      "Epoch 73/100\n",
      "15/15 [==============================] - 0s 997us/step - loss: 132.4377 - accuracy: 0.5774\n",
      "Epoch 74/100\n",
      "15/15 [==============================] - 0s 997us/step - loss: 17.5721 - accuracy: 0.7113\n",
      "Epoch 75/100\n",
      "15/15 [==============================] - 0s 1ms/step - loss: 57.5096 - accuracy: 0.6736\n",
      "Epoch 76/100\n",
      "15/15 [==============================] - 0s 1ms/step - loss: 51.1296 - accuracy: 0.6444\n",
      "Epoch 77/100\n",
      "15/15 [==============================] - 0s 997us/step - loss: 20.6772 - accuracy: 0.7113\n",
      "Epoch 78/100\n",
      "15/15 [==============================] - 0s 997us/step - loss: 39.5669 - accuracy: 0.6527\n",
      "Epoch 79/100\n"
     ]
    },
    {
     "name": "stdout",
     "output_type": "stream",
     "text": [
      "15/15 [==============================] - 0s 997us/step - loss: 22.3820 - accuracy: 0.7406\n",
      "Epoch 80/100\n",
      "15/15 [==============================] - 0s 1ms/step - loss: 51.4523 - accuracy: 0.5900\n",
      "Epoch 81/100\n",
      "15/15 [==============================] - 0s 997us/step - loss: 76.3819 - accuracy: 0.6151\n",
      "Epoch 82/100\n",
      "15/15 [==============================] - 0s 997us/step - loss: 101.3136 - accuracy: 0.6611\n",
      "Epoch 83/100\n",
      "15/15 [==============================] - 0s 1ms/step - loss: 39.0517 - accuracy: 0.6485\n",
      "Epoch 84/100\n",
      "15/15 [==============================] - 0s 1ms/step - loss: 41.6707 - accuracy: 0.6444\n",
      "Epoch 85/100\n",
      "15/15 [==============================] - 0s 1ms/step - loss: 56.8074 - accuracy: 0.6151\n",
      "Epoch 86/100\n",
      "15/15 [==============================] - 0s 1ms/step - loss: 43.7955 - accuracy: 0.6904\n",
      "Epoch 87/100\n",
      "15/15 [==============================] - 0s 1000us/step - loss: 45.8242 - accuracy: 0.6234\n",
      "Epoch 88/100\n",
      "15/15 [==============================] - 0s 1ms/step - loss: 48.4136 - accuracy: 0.6611\n",
      "Epoch 89/100\n",
      "15/15 [==============================] - 0s 1ms/step - loss: 20.0540 - accuracy: 0.7113\n",
      "Epoch 90/100\n",
      "15/15 [==============================] - 0s 1ms/step - loss: 38.9219 - accuracy: 0.6778\n",
      "Epoch 91/100\n",
      "15/15 [==============================] - ETA: 0s - loss: 40.3373 - accuracy: 0.750 - 0s 997us/step - loss: 42.9676 - accuracy: 0.6987\n",
      "Epoch 92/100\n",
      "15/15 [==============================] - 0s 1ms/step - loss: 76.5409 - accuracy: 0.5941\n",
      "Epoch 93/100\n",
      "15/15 [==============================] - 0s 1ms/step - loss: 34.5263 - accuracy: 0.6569\n",
      "Epoch 94/100\n",
      "15/15 [==============================] - 0s 1ms/step - loss: 29.6935 - accuracy: 0.6904\n",
      "Epoch 95/100\n",
      "15/15 [==============================] - 0s 1ms/step - loss: 34.7005 - accuracy: 0.7071\n",
      "Epoch 96/100\n",
      "15/15 [==============================] - 0s 997us/step - loss: 12.6411 - accuracy: 0.7992\n",
      "Epoch 97/100\n",
      "15/15 [==============================] - ETA: 0s - loss: 20.2566 - accuracy: 0.500 - 0s 995us/step - loss: 30.6941 - accuracy: 0.6736\n",
      "Epoch 98/100\n",
      "15/15 [==============================] - 0s 997us/step - loss: 13.5652 - accuracy: 0.7615\n",
      "Epoch 99/100\n",
      "15/15 [==============================] - 0s 997us/step - loss: 41.4889 - accuracy: 0.6653\n",
      "Epoch 100/100\n",
      "15/15 [==============================] - 0s 997us/step - loss: 68.9762 - accuracy: 0.7029\n"
     ]
    },
    {
     "data": {
      "text/plain": [
       "<keras.callbacks.History at 0x25fed8d1ac0>"
      ]
     },
     "execution_count": 19,
     "metadata": {},
     "output_type": "execute_result"
    }
   ],
   "source": [
    "model.fit(X_train,Y_train, epochs=100, batch_size=16,verbose=1)"
   ]
  },
  {
   "cell_type": "code",
   "execution_count": 20,
   "id": "01e38da1",
   "metadata": {},
   "outputs": [
    {
     "name": "stdout",
     "output_type": "stream",
     "text": [
      "2/2 [==============================] - 0s 0s/step - loss: 15.7698 - accuracy: 0.7000\n"
     ]
    }
   ],
   "source": [
    "loss,acc= model.evaluate(X_test,Y_test)"
   ]
  },
  {
   "cell_type": "code",
   "execution_count": 21,
   "id": "fb290673",
   "metadata": {},
   "outputs": [
    {
     "data": {
      "text/plain": [
       "15.769759178161621"
      ]
     },
     "execution_count": 21,
     "metadata": {},
     "output_type": "execute_result"
    }
   ],
   "source": [
    "loss"
   ]
  },
  {
   "cell_type": "code",
   "execution_count": 22,
   "id": "8305576b",
   "metadata": {},
   "outputs": [
    {
     "data": {
      "text/plain": [
       "0.699999988079071"
      ]
     },
     "execution_count": 22,
     "metadata": {},
     "output_type": "execute_result"
    }
   ],
   "source": [
    "acc"
   ]
  },
  {
   "cell_type": "markdown",
   "id": "1777e711",
   "metadata": {},
   "source": [
    "## Generating a classification report"
   ]
  },
  {
   "cell_type": "code",
   "execution_count": 31,
   "id": "a8255ee7",
   "metadata": {},
   "outputs": [],
   "source": [
    "y_estimate=model.predict(X_test,verbose=0)\n",
    "y_estimate= np.argmax(y_estimate,axis=1)"
   ]
  },
  {
   "cell_type": "code",
   "execution_count": 32,
   "id": "85c3fdeb",
   "metadata": {
    "scrolled": true
   },
   "outputs": [
    {
     "data": {
      "text/plain": [
       "array([0, 0, 1, 1, 0, 0, 1, 0, 1, 0, 0, 1, 1, 0, 0, 1, 0, 0, 1, 1, 0, 0,\n",
       "       0, 1, 1, 0, 0, 0, 1, 0, 1, 0, 0, 1, 1, 1, 1, 1, 0, 0, 1, 1, 0, 0,\n",
       "       0, 0, 0, 0, 0, 0, 1, 1, 1, 0, 0, 0, 0, 1, 0, 1], dtype=int64)"
      ]
     },
     "execution_count": 32,
     "metadata": {},
     "output_type": "execute_result"
    }
   ],
   "source": [
    "y_true = np.argmax(Y_test,axis=1)\n",
    "y_true"
   ]
  },
  {
   "cell_type": "code",
   "execution_count": 35,
   "id": "a1d87fb0",
   "metadata": {},
   "outputs": [
    {
     "name": "stdout",
     "output_type": "stream",
     "text": [
      "              precision    recall  f1-score   support\n",
      "\n",
      "           0       0.81      0.63      0.71        35\n",
      "           1       0.61      0.80      0.69        25\n",
      "\n",
      "    accuracy                           0.70        60\n",
      "   macro avg       0.71      0.71      0.70        60\n",
      "weighted avg       0.73      0.70      0.70        60\n",
      "\n"
     ]
    }
   ],
   "source": [
    "print(classification_report(y_true,y_estimate))"
   ]
  }
 ],
 "metadata": {
  "kernelspec": {
   "display_name": "Python 3",
   "language": "python",
   "name": "python3"
  },
  "language_info": {
   "codemirror_mode": {
    "name": "ipython",
    "version": 3
   },
   "file_extension": ".py",
   "mimetype": "text/x-python",
   "name": "python",
   "nbconvert_exporter": "python",
   "pygments_lexer": "ipython3",
   "version": "3.8.8"
  }
 },
 "nbformat": 4,
 "nbformat_minor": 5
}
